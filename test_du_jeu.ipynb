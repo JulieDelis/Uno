{
 "cells": [
  {
   "cell_type": "code",
   "execution_count": 6,
   "metadata": {},
   "outputs": [
    {
     "ename": "IndexError",
     "evalue": "pop from empty list",
     "output_type": "error",
     "traceback": [
      "\u001b[1;31m---------------------------------------------------------------------------\u001b[0m",
      "\u001b[1;31mIndexError\u001b[0m                                Traceback (most recent call last)",
      "\u001b[1;32mc:\\Users\\julie\\Documents\\Git\\Uno\\test_du_jeu.ipynb Cellule 1\u001b[0m in \u001b[0;36m<cell line: 2>\u001b[1;34m()\u001b[0m\n\u001b[0;32m      <a href='vscode-notebook-cell:/c%3A/Users/julie/Documents/Git/Uno/test_du_jeu.ipynb#W0sZmlsZQ%3D%3D?line=0'>1</a>\u001b[0m \u001b[39mimport\u001b[39;00m \u001b[39mfonctions\u001b[39;00m\n\u001b[1;32m----> <a href='vscode-notebook-cell:/c%3A/Users/julie/Documents/Git/Uno/test_du_jeu.ipynb#W0sZmlsZQ%3D%3D?line=1'>2</a>\u001b[0m fonctions\u001b[39m.\u001b[39;49mjeu()\n",
      "File \u001b[1;32mc:\\Users\\julie\\Documents\\Git\\Uno\\fonctions.py:90\u001b[0m, in \u001b[0;36mjeu\u001b[1;34m()\u001b[0m\n\u001b[0;32m     88\u001b[0m \u001b[39mdef\u001b[39;00m \u001b[39mjeu\u001b[39m():\n\u001b[0;32m     89\u001b[0m     nb_joueurs \u001b[39m=\u001b[39m \u001b[39mint\u001b[39m(\u001b[39minput\u001b[39m(\u001b[39m\"\u001b[39m\u001b[39mDonnez le nombre de joueur :\u001b[39m\u001b[39m\"\u001b[39m))\n\u001b[1;32m---> 90\u001b[0m     instances \u001b[39m=\u001b[39m preparation(nb_joueurs)\n\u001b[0;32m     91\u001b[0m     joueurs \u001b[39m=\u001b[39m instances[:\u001b[39m-\u001b[39m\u001b[39m2\u001b[39m]\n\u001b[0;32m     92\u001b[0m     pioche \u001b[39m=\u001b[39m instances[\u001b[39m-\u001b[39m\u001b[39m2\u001b[39m]\n",
      "File \u001b[1;32mc:\\Users\\julie\\Documents\\Git\\Uno\\fonctions.py:51\u001b[0m, in \u001b[0;36mpreparation\u001b[1;34m(nb_joueurs)\u001b[0m\n\u001b[0;32m     48\u001b[0m couleurs \u001b[39m=\u001b[39m [\u001b[39m\"\u001b[39m\u001b[39mbleu\u001b[39m\u001b[39m\"\u001b[39m, \u001b[39m\"\u001b[39m\u001b[39mrouge\u001b[39m\u001b[39m\"\u001b[39m, \u001b[39m\"\u001b[39m\u001b[39mjaune\u001b[39m\u001b[39m\"\u001b[39m, \u001b[39m\"\u001b[39m\u001b[39mvert\u001b[39m\u001b[39m\"\u001b[39m]\n\u001b[0;32m     49\u001b[0m symboles \u001b[39m=\u001b[39m \u001b[39mrange\u001b[39m(\u001b[39m10\u001b[39m)\n\u001b[1;32m---> 51\u001b[0m instances \u001b[39m=\u001b[39m distribue(melange(genere_cartes(couleurs, symboles, nb_joueurs)), nb_joueurs)\n\u001b[0;32m     52\u001b[0m \u001b[39mreturn\u001b[39;00m instances\n",
      "File \u001b[1;32mc:\\Users\\julie\\Documents\\Git\\Uno\\fonctions.py:40\u001b[0m, in \u001b[0;36mdistribue\u001b[1;34m(cartes, nb_joueur)\u001b[0m\n\u001b[0;32m     38\u001b[0m     joueur \u001b[39m=\u001b[39m []\n\u001b[0;32m     39\u001b[0m     \u001b[39mfor\u001b[39;00m nb_carte \u001b[39min\u001b[39;00m \u001b[39mrange\u001b[39m(\u001b[39m7\u001b[39m):\n\u001b[1;32m---> 40\u001b[0m         joueur\u001b[39m.\u001b[39mappend(pioche\u001b[39m.\u001b[39;49mpop(\u001b[39m0\u001b[39;49m))\n\u001b[0;32m     41\u001b[0m     instances\u001b[39m.\u001b[39mappend(joueur)\n\u001b[0;32m     42\u001b[0m instances\u001b[39m.\u001b[39mappend(pioche)\n",
      "\u001b[1;31mIndexError\u001b[0m: pop from empty list"
     ]
    }
   ],
   "source": [
    "import fonctions\n",
    "fonctions.jeu()"
   ]
  },
  {
   "cell_type": "code",
   "execution_count": 3,
   "metadata": {},
   "outputs": [
    {
     "name": "stdout",
     "output_type": "stream",
     "text": [
      "Help on method_descriptor:\n",
      "\n",
      "pop(self, index=-1, /)\n",
      "    Remove and return item at index (default last).\n",
      "    \n",
      "    Raises IndexError if list is empty or index is out of range.\n",
      "\n"
     ]
    }
   ],
   "source": [
    "help(list.pop)"
   ]
  },
  {
   "cell_type": "markdown",
   "metadata": {},
   "source": [
    "Problème avec les variables du type carte ou qui contiennent le type carte: l'affectation créer une nouvelle version des variables mais les originales sont modifiées aussi par les fonctions."
   ]
  }
 ],
 "metadata": {
  "kernelspec": {
   "display_name": "Python 3.9.7 ('base')",
   "language": "python",
   "name": "python3"
  },
  "language_info": {
   "codemirror_mode": {
    "name": "ipython",
    "version": 3
   },
   "file_extension": ".py",
   "mimetype": "text/x-python",
   "name": "python",
   "nbconvert_exporter": "python",
   "pygments_lexer": "ipython3",
   "version": "3.9.12"
  },
  "orig_nbformat": 4,
  "vscode": {
   "interpreter": {
    "hash": "dc19f1aca79640f29e4f4d7df31b19f58d3c80ef392b15c9e85b5fe0f1809e47"
   }
  }
 },
 "nbformat": 4,
 "nbformat_minor": 2
}
