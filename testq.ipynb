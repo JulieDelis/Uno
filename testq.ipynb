{
 "cells": [
  {
   "cell_type": "code",
   "execution_count": 7,
   "metadata": {},
   "outputs": [],
   "source": [
    "import cartes\n",
    "couleurs = [\"bleu\", \"rouge\", \"jaune\", \"vert\"]\n",
    "symboles = range(10)\n",
    "\n",
    "def genere_cartes(couleurs, symbols):\n",
    "    jeu = []\n",
    "    for couleur in couleurs:\n",
    "        for symbole in symboles:\n",
    "            # ici pour symbole dans feneration if symbol == id du symbol mettre 2 cartes de ça\n",
    "            carte = cartes.Carte(couleur, symbole)\n",
    "            jeu.append(carte)\n",
    "    return jeu\n"
   ]
  },
  {
   "cell_type": "code",
   "execution_count": 8,
   "metadata": {},
   "outputs": [],
   "source": [
    "import random\n",
    "\n",
    "def melange(pioche):\n",
    "    indices_deja_passe = []\n",
    "    nouvelle_pioche = []\n",
    "    while len(nouvelle_pioche) < 40:\n",
    "\n",
    "        indice_aleatoire = random.randint(0, 39)\n",
    "\n",
    "        if indice_aleatoire in indices_deja_passe:\n",
    "            continue\n",
    "\n",
    "        nouvelle_pioche.append(pioche[indice_aleatoire])\n",
    "        indices_deja_passe.append(indice_aleatoire)\n",
    "    return nouvelle_pioche\n"
   ]
  },
  {
   "cell_type": "code",
   "execution_count": 9,
   "metadata": {},
   "outputs": [],
   "source": [
    "def distribue(cartes):\n",
    "     # liste de liste instance pour pioche, tas , joueurs\n",
    "    \"\"\" Retourne une liste d'instances de jeu contenant les cartes dans l'ordre suivant, joueurs, pioche, tas.\"\"\"\n",
    "    pioche = cartes\n",
    "    tas = [pioche.pop(0)]\n",
    "    nb_joueur = 2 #input(\"Donnez le nombre de joueur :\")\n",
    "    instances = []\n",
    "    for i in range(nb_joueur):\n",
    "        joueur = []\n",
    "        for nb_carte in range(7):\n",
    "            joueur.append(pioche.pop(0))\n",
    "        instances.append(joueur)\n",
    "    instances.append(pioche)\n",
    "    instances.append(tas)\n",
    "    \n",
    "    return instances"
   ]
  },
  {
   "cell_type": "code",
   "execution_count": 2,
   "metadata": {},
   "outputs": [],
   "source": [
    "def preparation():\n",
    "    import cartes\n",
    "    couleurs = [\"bleu\", \"rouge\", \"jaune\", \"vert\"]\n",
    "    symboles = range(10)\n",
    "    import random\n",
    "    instances = distribue(melange(genere_cartes(couleurs, symboles)))\n",
    "    return instances"
   ]
  },
  {
   "cell_type": "code",
   "execution_count": 35,
   "metadata": {},
   "outputs": [
    {
     "name": "stdout",
     "output_type": "stream",
     "text": [
      "liste -----------------\n",
      "('rouge', 2)\n",
      "('rouge', 9)\n",
      "('vert', 0)\n",
      "('rouge', 0)\n",
      "('jaune', 6)\n",
      "('jaune', 7)\n",
      "('bleu', 4)\n",
      "liste -----------------\n",
      "('bleu', 1)\n",
      "('vert', 7)\n",
      "('bleu', 6)\n",
      "('bleu', 2)\n",
      "('bleu', 8)\n",
      "('vert', 6)\n",
      "('bleu', 5)\n",
      "liste -----------------\n",
      "('vert', 1)\n",
      "('jaune', 9)\n",
      "('jaune', 3)\n",
      "('rouge', 6)\n",
      "('vert', 8)\n",
      "('bleu', 3)\n",
      "('vert', 2)\n",
      "('vert', 3)\n",
      "('bleu', 0)\n",
      "('jaune', 8)\n",
      "('vert', 4)\n",
      "('jaune', 4)\n",
      "('rouge', 4)\n",
      "('bleu', 7)\n",
      "('jaune', 0)\n",
      "('rouge', 1)\n",
      "('vert', 9)\n",
      "('rouge', 3)\n",
      "('jaune', 2)\n",
      "('bleu', 9)\n",
      "('jaune', 5)\n",
      "('rouge', 8)\n",
      "('rouge', 7)\n",
      "('vert', 5)\n",
      "('rouge', 5)\n",
      "liste -----------------\n",
      "('jaune', 1)\n"
     ]
    }
   ],
   "source": [
    "for liste in [joueur1, joueur2, pioche, tas]:\n",
    "    print(\"liste -----------------\")\n",
    "    for carte in liste:\n",
    "        carte.montrer()\n",
    "        "
   ]
  },
  {
   "cell_type": "code",
   "execution_count": 34,
   "metadata": {},
   "outputs": [],
   "source": [
    "[joueur1, joueur2, pioche, tas] = preparation()"
   ]
  },
  {
   "cell_type": "code",
   "execution_count": 36,
   "metadata": {},
   "outputs": [],
   "source": [
    "def joue(joueur, pioche, tas): # un joueur = liste de cartes = cartes ici\n",
    "    cartes_jouables = [] # indices des cartes\n",
    "    for carte_id, carte in enumerate(joueur):\n",
    "        print(tas[-1].montrer())\n",
    "        if carte.peut_poser(tas[-1]):\n",
    "            cartes_jouables.append(carte_id)\n",
    "    print(cartes_jouables)\n",
    "    if cartes_jouables == []:\n",
    "        joueur.append(pioche.pop(0))\n",
    "    else:\n",
    "        carte_id = random.randint(0, len(cartes_jouables)-1)\n",
    "        tas.append(joueur.pop(carte_id))\n",
    "\n",
    "    return joueur, pioche, tas\n"
   ]
  },
  {
   "cell_type": "code",
   "execution_count": 37,
   "metadata": {},
   "outputs": [
    {
     "name": "stdout",
     "output_type": "stream",
     "text": [
      "('jaune', 1)\n",
      "None\n",
      "('jaune', 1)\n",
      "None\n",
      "('jaune', 1)\n",
      "None\n",
      "('jaune', 1)\n",
      "None\n",
      "('jaune', 1)\n",
      "None\n",
      "('jaune', 1)\n",
      "None\n",
      "('jaune', 1)\n",
      "None\n",
      "[4, 5]\n"
     ]
    }
   ],
   "source": [
    "x, y, z = joue(joueur1, pioche, tas)"
   ]
  },
  {
   "cell_type": "code",
   "execution_count": null,
   "metadata": {},
   "outputs": [],
   "source": [
    "# "
   ]
  },
  {
   "cell_type": "code",
   "execution_count": 38,
   "metadata": {},
   "outputs": [
    {
     "name": "stdout",
     "output_type": "stream",
     "text": [
      "liste -----------------\n",
      "('rouge', 9)\n",
      "('vert', 0)\n",
      "('rouge', 0)\n",
      "('jaune', 6)\n",
      "('jaune', 7)\n",
      "('bleu', 4)\n",
      "liste -----------------\n",
      "('vert', 1)\n",
      "('jaune', 9)\n",
      "('jaune', 3)\n",
      "('rouge', 6)\n",
      "('vert', 8)\n",
      "('bleu', 3)\n",
      "('vert', 2)\n",
      "('vert', 3)\n",
      "('bleu', 0)\n",
      "('jaune', 8)\n",
      "('vert', 4)\n",
      "('jaune', 4)\n",
      "('rouge', 4)\n",
      "('bleu', 7)\n",
      "('jaune', 0)\n",
      "('rouge', 1)\n",
      "('vert', 9)\n",
      "('rouge', 3)\n",
      "('jaune', 2)\n",
      "('bleu', 9)\n",
      "('jaune', 5)\n",
      "('rouge', 8)\n",
      "('rouge', 7)\n",
      "('vert', 5)\n",
      "('rouge', 5)\n",
      "liste -----------------\n",
      "('jaune', 1)\n",
      "('rouge', 2)\n"
     ]
    }
   ],
   "source": [
    "for liste in [x, y, z]:\n",
    "    print(\"liste -----------------\")\n",
    "    for carte in liste:\n",
    "        carte.montrer()"
   ]
  },
  {
   "cell_type": "code",
   "execution_count": 41,
   "metadata": {},
   "outputs": [],
   "source": [
    "def jeu(pioche):\n",
    "\n",
    "    début_artificiel = 0\n",
    "    tas = pioche[0]\n",
    "    début_artificiel += 1 # pas la meilleur façon, modifier l'index de départ dans une variable\n",
    "    joueur1 = pioche[début_artificiel:début_artificiel+7]\n",
    "    début_artificiel += 7\n",
    "    joueur2 = pioche[début_artificiel:début_artificiel+7]\n",
    "    début_artificiel += 7\n",
    "    joueurs = [joueur1, joueur2]\n",
    "\n",
    "    for joueur in joueurs:\n",
    "        print(\"Liste de cartes : \")\n",
    "        for carte in joueur:\n",
    "            print(carte.montrer())\n",
    "        print(\"cartes jouables\")\n",
    "        cartes_jouables = []\n",
    "        for carte in joueur:\n",
    "            if carte.peut_poser(tas[-1]):\n",
    "                cartes_jouables.append(carte)\n",
    "                print(carte.montrer())\n",
    "        if cartes_jouables == []:\n",
    "            joueur.append(pioche[début_artificiel])\n",
    "            début_artificiel += 1\n",
    "        else:\n",
    "            carte_jouée = random.randint(0, len(joueur)-1)\n",
    "            tas.append(joueur[carte_jouée])\n",
    "            joueur.pop(carte_jouée) \n",
    "        if joueur == []:\n",
    "            break\n",
    "\n",
    "            \n",
    "        "
   ]
  },
  {
   "cell_type": "code",
   "execution_count": 42,
   "metadata": {},
   "outputs": [
    {
     "name": "stdout",
     "output_type": "stream",
     "text": [
      "Liste de cartes : \n",
      "('bleu', 7)\n",
      "None\n",
      "('rouge', 2)\n",
      "None\n",
      "('bleu', 6)\n",
      "None\n",
      "('bleu', 4)\n",
      "None\n",
      "('jaune', 9)\n",
      "None\n",
      "('rouge', 7)\n",
      "None\n",
      "('bleu', 1)\n",
      "None\n",
      "cartes jouables\n"
     ]
    },
    {
     "ename": "TypeError",
     "evalue": "'Carte' object is not subscriptable",
     "output_type": "error",
     "traceback": [
      "\u001b[1;31m---------------------------------------------------------------------------\u001b[0m",
      "\u001b[1;31mTypeError\u001b[0m                                 Traceback (most recent call last)",
      "\u001b[1;32m~\\AppData\\Local\\Temp/ipykernel_5860/63090269.py\u001b[0m in \u001b[0;36m<module>\u001b[1;34m\u001b[0m\n\u001b[1;32m----> 1\u001b[1;33m \u001b[0mjeu\u001b[0m\u001b[1;33m(\u001b[0m\u001b[0mpioche\u001b[0m\u001b[1;33m)\u001b[0m\u001b[1;33m\u001b[0m\u001b[1;33m\u001b[0m\u001b[0m\n\u001b[0m",
      "\u001b[1;32m~\\AppData\\Local\\Temp/ipykernel_5860/3560659549.py\u001b[0m in \u001b[0;36mjeu\u001b[1;34m(pioche)\u001b[0m\n\u001b[0;32m     17\u001b[0m         \u001b[0mcartes_jouables\u001b[0m \u001b[1;33m=\u001b[0m \u001b[1;33m[\u001b[0m\u001b[1;33m]\u001b[0m\u001b[1;33m\u001b[0m\u001b[1;33m\u001b[0m\u001b[0m\n\u001b[0;32m     18\u001b[0m         \u001b[1;32mfor\u001b[0m \u001b[0mcarte\u001b[0m \u001b[1;32min\u001b[0m \u001b[0mjoueur\u001b[0m\u001b[1;33m:\u001b[0m\u001b[1;33m\u001b[0m\u001b[1;33m\u001b[0m\u001b[0m\n\u001b[1;32m---> 19\u001b[1;33m             \u001b[1;32mif\u001b[0m \u001b[0mcarte\u001b[0m\u001b[1;33m.\u001b[0m\u001b[0mpeut_poser\u001b[0m\u001b[1;33m(\u001b[0m\u001b[0mtas\u001b[0m\u001b[1;33m[\u001b[0m\u001b[1;33m-\u001b[0m\u001b[1;36m1\u001b[0m\u001b[1;33m]\u001b[0m\u001b[1;33m)\u001b[0m\u001b[1;33m:\u001b[0m\u001b[1;33m\u001b[0m\u001b[1;33m\u001b[0m\u001b[0m\n\u001b[0m\u001b[0;32m     20\u001b[0m                 \u001b[0mcartes_jouables\u001b[0m\u001b[1;33m.\u001b[0m\u001b[0mappend\u001b[0m\u001b[1;33m(\u001b[0m\u001b[0mcarte\u001b[0m\u001b[1;33m)\u001b[0m\u001b[1;33m\u001b[0m\u001b[1;33m\u001b[0m\u001b[0m\n\u001b[0;32m     21\u001b[0m                 \u001b[0mprint\u001b[0m\u001b[1;33m(\u001b[0m\u001b[0mcarte\u001b[0m\u001b[1;33m.\u001b[0m\u001b[0mmontrer\u001b[0m\u001b[1;33m(\u001b[0m\u001b[1;33m)\u001b[0m\u001b[1;33m)\u001b[0m\u001b[1;33m\u001b[0m\u001b[1;33m\u001b[0m\u001b[0m\n",
      "\u001b[1;31mTypeError\u001b[0m: 'Carte' object is not subscriptable"
     ]
    }
   ],
   "source": [
    "jeu(pioche)"
   ]
  }
 ],
 "metadata": {
  "kernelspec": {
   "display_name": "Python 3.9.7 ('base')",
   "language": "python",
   "name": "python3"
  },
  "language_info": {
   "codemirror_mode": {
    "name": "ipython",
    "version": 3
   },
   "file_extension": ".py",
   "mimetype": "text/x-python",
   "name": "python",
   "nbconvert_exporter": "python",
   "pygments_lexer": "ipython3",
   "version": "3.9.7"
  },
  "orig_nbformat": 4,
  "vscode": {
   "interpreter": {
    "hash": "dc19f1aca79640f29e4f4d7df31b19f58d3c80ef392b15c9e85b5fe0f1809e47"
   }
  }
 },
 "nbformat": 4,
 "nbformat_minor": 2
}
